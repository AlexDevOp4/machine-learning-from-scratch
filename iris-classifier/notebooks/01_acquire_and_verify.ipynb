{
 "cells": [
  {
   "cell_type": "code",
   "execution_count": null,
   "id": "6955d486",
   "metadata": {},
   "outputs": [],
   "source": [
    "%pip install -q pandas matplotlib seaborn\n",
    "import pandas as pd, sys\n",
    "import hashlib\n",
    "import numpy as np\n",
    "import matplotlib.pyplot as pl\n",
    "import seaborn"
   ]
  },
  {
   "cell_type": "code",
   "execution_count": null,
   "id": "7a5e538d",
   "metadata": {},
   "outputs": [],
   "source": [
    "with open(\"../data/iris.csv\", \"rb\") as f:\n",
    "    file_bytes = f.read()\n",
    "checksum = hashlib.sha256(file_bytes).hexdigest()\n",
    "print(\"SHA256\", checksum)"
   ]
  },
  {
   "cell_type": "code",
   "execution_count": null,
   "id": "8f58126a",
   "metadata": {},
   "outputs": [],
   "source": [
    "iris = pd.read_csv(\"../data/iris.csv\")\n",
    "\n",
    "# Any missing values?\n",
    "missing_values = iris.isnull().sum()\n",
    "\n",
    "# Class Distribution\n",
    "class_distribution = iris[\"species\"].value_counts()\n",
    "\n",
    "# Column Names\n",
    "column_names = iris.columns.to_list()\n",
    "\n",
    "# Any duplicates?\n",
    "duplicate_count = iris.duplicated()\n",
    "mask = iris.duplicated(keep=False)\n",
    "\n",
    "\n",
    "# 1. Exact Duplicates\n",
    "exact_row_duplicates = iris.duplicated().sum()\n",
    "\n",
    "# 2. Feature-only duplicates (ignoring label, but same label too)\n",
    "feature_cols = column_names\n",
    "\n",
    "feature_only = iris.groupby(feature_cols)[\"species\"].nunique().reset_index(name=\"unique_species_count\")\n",
    "\n",
    "# Count groups that have only 1 species but more than 1 row\n",
    "feature_only_duplicates = (feature_only[\"unique_species_count\"] > 1).sum()\n",
    "\n",
    "# 3. Conflicting label groups (same features -> multiple species)\n",
    "conflicting_label_groups = (feature_only[\"unique_species_count\"] > 1).sum()\n",
    "\n",
    "# Save to dict\n",
    "summary = {\n",
    "    \"exact_row_duplicates\": int(exact_row_duplicates),\n",
    "    \"feature_only_duplicates\": int(feature_only_duplicates),\n",
    "    \"conflicting_label_groups\": int(conflicting_label_groups),\n",
    "}\n",
    "\n",
    "# Shape:\n",
    "print(f\"Shape: {iris.shape}\")\n",
    "\n",
    "# Nulls:\n",
    "print(f\"Nulls: {missing_values}\")\n",
    "\n",
    "# Class Counts:\n",
    "print(f\"Class Counts: {class_distribution}\")\n",
    "\n",
    "# Duplicate summary dict:\n",
    "print(f\"Duplicate Summary: {summary}\")\n",
    "\n",
    "\n",
    "g = seaborn.pairplot(iris, hue=\"species\")\n",
    "pl.savefig(\"../reports/figures/01_pairplot.png\", dpi=300, bbox_inches=\"tight\")\n",
    "pl.show()"
   ]
  },
  {
   "cell_type": "markdown",
   "id": "64c810db",
   "metadata": {},
   "source": [
    "### Source of Data\n",
    "The dataset used is the Iris dataset, originally published by Ronald Fisher\n",
    "In this project, it is loaded from a local CSV file at `../data/iris.csv`\n",
    "\n",
    "### Shape of Data\n",
    "The dataset contains 150 rows and 5 columns. Each row represents a flower with four feature measurements and one species label.\n",
    "\n",
    "### Quick Validation Summary\n",
    "- No missing values detected\n",
    "- Data types are numeric for features, categorical for species.\n",
    "- 150 unique rows, no duplicates\n",
    "\n",
    "### Cleaning\n",
    "The dataset required minimal cleaning. No missing or duplicate records were found. The only adjust was dropping the artificial Id column, which is redundant with the row index.\n",
    "\n",
    "## Data Integrity\n",
    "The cleaned dataset is stored at `data/iris.csv`.  \n",
    "SHA256 checksum: `20f7ef9ad6e85c0...eb1df2cda`\n",
    " \n",
    "## Obeservations:\n",
    "Found 3 exact duplicate rows; 0 feature-only duplicates; 0 conflicting labels."
   ]
  }
 ],
 "metadata": {
  "kernelspec": {
   "display_name": ".venv",
   "language": "python",
   "name": "python3"
  },
  "language_info": {
   "codemirror_mode": {
    "name": "ipython",
    "version": 3
   },
   "file_extension": ".py",
   "mimetype": "text/x-python",
   "name": "python",
   "nbconvert_exporter": "python",
   "pygments_lexer": "ipython3",
   "version": "3.12.7"
  }
 },
 "nbformat": 4,
 "nbformat_minor": 5
}
